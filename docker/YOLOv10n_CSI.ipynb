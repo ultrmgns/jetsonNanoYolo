{
 "cells": [
  {
   "cell_type": "code",
   "execution_count": null,
   "id": "71a6abce-caaf-4564-bad4-f8817bab5846",
   "metadata": {},
   "outputs": [],
   "source": [
    "!python3 -m pip install opencv-python ultralytics ipywidgets"
   ]
  },
  {
   "cell_type": "code",
   "execution_count": null,
   "id": "52ffa826-f6df-4a67-8b15-5f55eaa3a0ed",
   "metadata": {},
   "outputs": [],
   "source": [
    "import torch\n",
    "print(torch.cuda.is_available())  # Should print True if CUDA is available\n",
    "print(torch.cuda.device_count())  # Should print the number of GPUs available\n",
    "print(torch.cuda.current_device())  # Should print the current device index (should be 0 if a GPU is used)\n",
    "print(torch.cuda.get_device_name(0))  # Should print the name of the GPU (Jetson Nano has a Maxwell GPU)"
   ]
  },
  {
   "cell_type": "code",
   "execution_count": null,
   "id": "8a72f5bc-7ee0-4e21-834f-af0fd3504fc8",
   "metadata": {},
   "outputs": [],
   "source": [
    "import torch\n",
    "\n",
    "if torch.cuda.is_available():\n",
    "    print(\"CUDA is available\")\n",
    "    print(\"GPU Name:\", torch.cuda.get_device_name(0))\n",
    "else:\n",
    "    print(\"CUDA is not available\")"
   ]
  },
  {
   "cell_type": "code",
   "execution_count": null,
   "id": "8bc703fb-0b2d-4e89-8574-ec896c65f4d3",
   "metadata": {},
   "outputs": [],
   "source": [
    "import cv2\n",
    "import torch\n",
    "from ultralytics import YOLO\n",
    "from IPython.display import display\n",
    "import ipywidgets as widgets\n",
    "import threading\n",
    "import time\n",
    "\n",
    "# Load the YOLOv10s model\n",
    "model = YOLO('yolov10s.pt')\n",
    "model.to('cuda' if torch.cuda.is_available() else 'cpu')\n",
    "\n",
    "# Define the GStreamer pipeline for the CSI camera\n",
    "pipeline = (\n",
    "    \"nvarguscamerasrc ! \"\n",
    "    \"video/x-raw(memory:NVMM), width=1280, height=720, framerate=30/1 ! \"\n",
    "    \"nvvidconv flip-method=2 ! \"\n",
    "    \"video/x-raw, format=BGRx ! \"\n",
    "    \"videoconvert ! \"\n",
    "    \"video/x-raw, format=BGR ! \"\n",
    "    \"appsink\"\n",
    ")\n",
    "\n",
    "# Initialize the video capture with the GStreamer pipeline\n",
    "cap = cv2.VideoCapture(pipeline, cv2.CAP_GSTREAMER)\n",
    "\n",
    "# Create an output widget\n",
    "output_widget = widgets.Image()\n",
    "display(output_widget)\n",
    "\n",
    "def process_frame(frame):\n",
    "    results = model(frame)\n",
    "    annotated_frame = results[0].plot()\n",
    "    return cv2.cvtColor(annotated_frame, cv2.COLOR_BGR2RGB)\n",
    "\n",
    "def video_feed():\n",
    "    while True:\n",
    "        ret, frame = cap.read()\n",
    "        if not ret:\n",
    "            print(\"Failed to read frame from camera. Exiting...\")\n",
    "            break\n",
    "        processed_frame = process_frame(frame)\n",
    "        _, jpeg = cv2.imencode('.jpg', processed_frame)\n",
    "        output_widget.value = jpeg.tobytes()\n",
    "        time.sleep(0.033)  # Approximately 30 FPS\n",
    "\n",
    "# Start the video feed in a separate thread\n",
    "thread = threading.Thread(target=video_feed)\n",
    "thread.daemon = True\n",
    "thread.start()\n"
   ]
  },
  {
   "cell_type": "code",
   "execution_count": null,
   "id": "830d2b4f-207b-44a6-8bff-f45558ce5d4e",
   "metadata": {},
   "outputs": [],
   "source": []
  }
 ],
 "metadata": {
  "kernelspec": {
   "display_name": "Python 3 (ipykernel)",
   "language": "python",
   "name": "python3"
  },
  "language_info": {
   "codemirror_mode": {
    "name": "ipython",
    "version": 3
   },
   "file_extension": ".py",
   "mimetype": "text/x-python",
   "name": "python",
   "nbconvert_exporter": "python",
   "pygments_lexer": "ipython3",
   "version": "3.10.12"
  }
 },
 "nbformat": 4,
 "nbformat_minor": 5
}
